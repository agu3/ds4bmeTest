{
  "nbformat": 4,
  "nbformat_minor": 0,
  "metadata": {
    "colab": {
      "name": "a8_q2.ipynb",
      "provenance": [],
      "collapsed_sections": [],
      "machine_shape": "hm",
      "authorship_tag": "ABX9TyP1Yfwf1eUIPhs9ojiRU8ea",
      "include_colab_link": true
    },
    "kernelspec": {
      "name": "python3",
      "display_name": "Python 3"
    }
  },
  "cells": [
    {
      "cell_type": "markdown",
      "metadata": {
        "id": "view-in-github",
        "colab_type": "text"
      },
      "source": [
        "<a href=\"https://colab.research.google.com/github/agu3/ds4bmeTest/blob/master/a8_q2.ipynb\" target=\"_parent\"><img src=\"https://colab.research.google.com/assets/colab-badge.svg\" alt=\"Open In Colab\"/></a>"
      ]
    },
    {
      "cell_type": "markdown",
      "metadata": {
        "id": "exb5ynWRkL6I",
        "colab_type": "text"
      },
      "source": [
        "# Loading and preprocessing data"
      ]
    },
    {
      "cell_type": "code",
      "metadata": {
        "id": "MZ-4MVhujBfK",
        "colab_type": "code",
        "outputId": "4e9ee856-1b98-4d64-dd39-60c121b7b703",
        "colab": {
          "base_uri": "https://localhost:8080/",
          "height": 372
        }
      },
      "source": [
        "!pip install -U tensorflow_datasets"
      ],
      "execution_count": 0,
      "outputs": [
        {
          "output_type": "stream",
          "text": [
            "Requirement already up-to-date: tensorflow_datasets in /usr/local/lib/python3.6/dist-packages (3.0.0)\n",
            "Requirement already satisfied, skipping upgrade: requests>=2.19.0 in /usr/local/lib/python3.6/dist-packages (from tensorflow_datasets) (2.21.0)\n",
            "Requirement already satisfied, skipping upgrade: future in /usr/local/lib/python3.6/dist-packages (from tensorflow_datasets) (0.16.0)\n",
            "Requirement already satisfied, skipping upgrade: six in /usr/local/lib/python3.6/dist-packages (from tensorflow_datasets) (1.12.0)\n",
            "Requirement already satisfied, skipping upgrade: tqdm in /usr/local/lib/python3.6/dist-packages (from tensorflow_datasets) (4.38.0)\n",
            "Requirement already satisfied, skipping upgrade: tensorflow-metadata in /usr/local/lib/python3.6/dist-packages (from tensorflow_datasets) (0.21.2)\n",
            "Requirement already satisfied, skipping upgrade: protobuf>=3.6.1 in /usr/local/lib/python3.6/dist-packages (from tensorflow_datasets) (3.10.0)\n",
            "Requirement already satisfied, skipping upgrade: wrapt in /usr/local/lib/python3.6/dist-packages (from tensorflow_datasets) (1.12.1)\n",
            "Requirement already satisfied, skipping upgrade: numpy in /usr/local/lib/python3.6/dist-packages (from tensorflow_datasets) (1.18.3)\n",
            "Requirement already satisfied, skipping upgrade: termcolor in /usr/local/lib/python3.6/dist-packages (from tensorflow_datasets) (1.1.0)\n",
            "Requirement already satisfied, skipping upgrade: absl-py in /usr/local/lib/python3.6/dist-packages (from tensorflow_datasets) (0.9.0)\n",
            "Requirement already satisfied, skipping upgrade: promise in /usr/local/lib/python3.6/dist-packages (from tensorflow_datasets) (2.3)\n",
            "Requirement already satisfied, skipping upgrade: attrs>=18.1.0 in /usr/local/lib/python3.6/dist-packages (from tensorflow_datasets) (19.3.0)\n",
            "Requirement already satisfied, skipping upgrade: dill in /usr/local/lib/python3.6/dist-packages (from tensorflow_datasets) (0.3.1.1)\n",
            "Requirement already satisfied, skipping upgrade: urllib3<1.25,>=1.21.1 in /usr/local/lib/python3.6/dist-packages (from requests>=2.19.0->tensorflow_datasets) (1.24.3)\n",
            "Requirement already satisfied, skipping upgrade: idna<2.9,>=2.5 in /usr/local/lib/python3.6/dist-packages (from requests>=2.19.0->tensorflow_datasets) (2.8)\n",
            "Requirement already satisfied, skipping upgrade: chardet<3.1.0,>=3.0.2 in /usr/local/lib/python3.6/dist-packages (from requests>=2.19.0->tensorflow_datasets) (3.0.4)\n",
            "Requirement already satisfied, skipping upgrade: certifi>=2017.4.17 in /usr/local/lib/python3.6/dist-packages (from requests>=2.19.0->tensorflow_datasets) (2020.4.5.1)\n",
            "Requirement already satisfied, skipping upgrade: googleapis-common-protos in /usr/local/lib/python3.6/dist-packages (from tensorflow-metadata->tensorflow_datasets) (1.51.0)\n",
            "Requirement already satisfied, skipping upgrade: setuptools in /usr/local/lib/python3.6/dist-packages (from protobuf>=3.6.1->tensorflow_datasets) (46.1.3)\n"
          ],
          "name": "stdout"
        }
      ]
    },
    {
      "cell_type": "code",
      "metadata": {
        "id": "oRAg35u7cF1l",
        "colab_type": "code",
        "colab": {}
      },
      "source": [
        "import tensorflow as tf\n",
        "import tensorflow_datasets as tdfs\n",
        "import math\n",
        "import numpy as np \n",
        "import matplotlib.pyplot as plt\n",
        "\n",
        "import logging\n",
        "logger = tf.get_logger()\n",
        "logger.setLevel(logging.ERROR)"
      ],
      "execution_count": 0,
      "outputs": []
    },
    {
      "cell_type": "code",
      "metadata": {
        "id": "0WPwtTHfcjMS",
        "colab_type": "code",
        "colab": {}
      },
      "source": [
        "fashmnist, metadata = tdfs.load('fashion_mnist', as_supervised = True, with_info = True)\n",
        "train_dataset, test_dataset = fashmnist['train'], fashmnist['test']\n",
        "\n",
        "class_names = ['T-shirt/top', 'Trouser', 'Pullover', 'Dress', 'Coat',\n",
        "               'Sandal',      'Shirt',   'Sneaker',  'Bag',   'Ankle boot']"
      ],
      "execution_count": 0,
      "outputs": []
    },
    {
      "cell_type": "code",
      "metadata": {
        "id": "1kV89P-HdNKm",
        "colab_type": "code",
        "outputId": "b19ecf0d-c6a2-496d-8fe3-3b846a68c361",
        "colab": {
          "base_uri": "https://localhost:8080/",
          "height": 52
        }
      },
      "source": [
        "num_train_examples = metadata.splits['train'].num_examples \n",
        "num_test_examples = metadata.splits['test'].num_examples\n",
        "\n",
        "print(num_test_examples)\n",
        "print(num_train_examples)"
      ],
      "execution_count": 0,
      "outputs": [
        {
          "output_type": "stream",
          "text": [
            "10000\n",
            "60000\n"
          ],
          "name": "stdout"
        }
      ]
    },
    {
      "cell_type": "code",
      "metadata": {
        "id": "9YG8m4k7d0sq",
        "colab_type": "code",
        "colab": {}
      },
      "source": [
        "def normalize (images, labels):\n",
        "  images = tf.cast(images, tf.float32)\n",
        "  images /= 255\n",
        "  return images, labels\n",
        "\n",
        "train_dataset = train_dataset.map(normalize)\n",
        "test_datatset = test_dataset.map(normalize)\n",
        "\n",
        "train_dataset = train_dataset.cache()\n",
        "test_dataset = test_dataset.cache()"
      ],
      "execution_count": 0,
      "outputs": []
    },
    {
      "cell_type": "markdown",
      "metadata": {
        "id": "2eqp5c3uPukH",
        "colab_type": "text"
      },
      "source": [
        "# Model 1: Baseline model with 1 hidden layer with 128 nodes and 20% dropout"
      ]
    },
    {
      "cell_type": "code",
      "metadata": {
        "id": "nxQ1ix4EeWzg",
        "colab_type": "code",
        "colab": {}
      },
      "source": [
        "model1 = tf.keras.Sequential([\n",
        "  tf.keras.layers.Flatten(input_shape = (28, 28, 1)),\n",
        "  tf.keras.layers.Dense(128, activation = tf.nn.relu),\n",
        "  tf.keras.layers.Dropout(0.2),\n",
        "  tf.keras.layers.Dense(10)\n",
        "])"
      ],
      "execution_count": 0,
      "outputs": []
    },
    {
      "cell_type": "code",
      "metadata": {
        "id": "d89g0sKqe4C4",
        "colab_type": "code",
        "outputId": "e3551cbf-8f92-4861-c732-896943145f85",
        "colab": {
          "base_uri": "https://localhost:8080/",
          "height": 301
        }
      },
      "source": [
        "model1.summary()"
      ],
      "execution_count": 0,
      "outputs": [
        {
          "output_type": "stream",
          "text": [
            "Model: \"sequential_2\"\n",
            "_________________________________________________________________\n",
            "Layer (type)                 Output Shape              Param #   \n",
            "=================================================================\n",
            "flatten_2 (Flatten)          (None, 784)               0         \n",
            "_________________________________________________________________\n",
            "dense_5 (Dense)              (None, 128)               100480    \n",
            "_________________________________________________________________\n",
            "dropout_3 (Dropout)          (None, 128)               0         \n",
            "_________________________________________________________________\n",
            "dense_6 (Dense)              (None, 10)                1290      \n",
            "=================================================================\n",
            "Total params: 101,770\n",
            "Trainable params: 101,770\n",
            "Non-trainable params: 0\n",
            "_________________________________________________________________\n"
          ],
          "name": "stdout"
        }
      ]
    },
    {
      "cell_type": "code",
      "metadata": {
        "id": "wlkdoSvte6FX",
        "colab_type": "code",
        "colab": {}
      },
      "source": [
        "model1.compile(\n",
        "    optimizer = 'adam',\n",
        "    loss = tf.keras.losses.SparseCategoricalCrossentropy(from_logits = True),\n",
        "    metrics = ['accuracy']\n",
        ")"
      ],
      "execution_count": 0,
      "outputs": []
    },
    {
      "cell_type": "code",
      "metadata": {
        "id": "ccStR-jOfItb",
        "colab_type": "code",
        "colab": {}
      },
      "source": [
        "batch_size = 32 \n",
        "train_dataset = train_dataset.cache().repeat().shuffle(num_train_examples).batch(batch_size)\n",
        "test_dataset = test_dataset.cache().batch(batch_size)"
      ],
      "execution_count": 0,
      "outputs": []
    },
    {
      "cell_type": "code",
      "metadata": {
        "id": "Tk-R3U7-fY8G",
        "colab_type": "code",
        "outputId": "f39c591a-6472-40fc-8e53-fc392684cf7c",
        "colab": {
          "base_uri": "https://localhost:8080/",
          "height": 212
        }
      },
      "source": [
        "model1.fit(train_dataset, epochs = 5, steps_per_epoch = math.ceil(num_train_examples/batch_size))"
      ],
      "execution_count": 0,
      "outputs": [
        {
          "output_type": "stream",
          "text": [
            "Epoch 1/5\n",
            "1875/1875 [==============================] - 3s 2ms/step - loss: 0.5315 - accuracy: 0.8095\n",
            "Epoch 2/5\n",
            "1875/1875 [==============================] - 3s 2ms/step - loss: 0.3983 - accuracy: 0.8551\n",
            "Epoch 3/5\n",
            "1875/1875 [==============================] - 3s 2ms/step - loss: 0.3656 - accuracy: 0.8663\n",
            "Epoch 4/5\n",
            "1875/1875 [==============================] - 3s 2ms/step - loss: 0.3445 - accuracy: 0.8734\n",
            "Epoch 5/5\n",
            "1875/1875 [==============================] - 3s 2ms/step - loss: 0.3293 - accuracy: 0.8783\n"
          ],
          "name": "stdout"
        },
        {
          "output_type": "execute_result",
          "data": {
            "text/plain": [
              "<tensorflow.python.keras.callbacks.History at 0x7f2553171ac8>"
            ]
          },
          "metadata": {
            "tags": []
          },
          "execution_count": 29
        }
      ]
    },
    {
      "cell_type": "code",
      "metadata": {
        "id": "ehztpt69ghe4",
        "colab_type": "code",
        "outputId": "e8ca1cda-32f9-4a02-f71c-e531656b9774",
        "colab": {
          "base_uri": "https://localhost:8080/",
          "height": 52
        }
      },
      "source": [
        "model1.evaluate(test_dataset, steps = math.ceil(num_test_examples/batch_size))"
      ],
      "execution_count": 0,
      "outputs": [
        {
          "output_type": "stream",
          "text": [
            "313/313 [==============================] - 1s 3ms/step - loss: 52.5952 - accuracy: 0.8519\n"
          ],
          "name": "stdout"
        },
        {
          "output_type": "execute_result",
          "data": {
            "text/plain": [
              "[52.59524154663086, 0.8518999814987183]"
            ]
          },
          "metadata": {
            "tags": []
          },
          "execution_count": 30
        }
      ]
    },
    {
      "cell_type": "markdown",
      "metadata": {
        "id": "aMxArwob3PI9",
        "colab_type": "text"
      },
      "source": [
        "Accuracy with model 1 on the test dataset is 0.8518999814987183"
      ]
    },
    {
      "cell_type": "markdown",
      "metadata": {
        "id": "Z2eKQRBXysxc",
        "colab_type": "text"
      },
      "source": [
        "# Model 2 with 2 hidden layers and 20% dropout"
      ]
    },
    {
      "cell_type": "code",
      "metadata": {
        "id": "f6qBg8wpy0KV",
        "colab_type": "code",
        "colab": {}
      },
      "source": [
        "model2 = tf.keras.Sequential([\n",
        "  tf.keras.layers.Flatten(input_shape = (28, 28, 1)),\n",
        "  tf.keras.layers.Dense(128, activation = tf.nn.relu),\n",
        "  tf.keras.layers.Dropout(0.2),\n",
        "  tf.keras.layers.Dense(64, activation = tf.nn.relu),\n",
        "  tf.keras.layers.Dropout(0.2),\n",
        "  tf.keras.layers.Dense(10)\n",
        "])"
      ],
      "execution_count": 0,
      "outputs": []
    },
    {
      "cell_type": "code",
      "metadata": {
        "id": "6m8bRkhQz75q",
        "colab_type": "code",
        "outputId": "344680e6-fde8-4d49-93bb-dc1e65026062",
        "colab": {
          "base_uri": "https://localhost:8080/",
          "height": 372
        }
      },
      "source": [
        "model2.summary()"
      ],
      "execution_count": 0,
      "outputs": [
        {
          "output_type": "stream",
          "text": [
            "Model: \"sequential\"\n",
            "_________________________________________________________________\n",
            "Layer (type)                 Output Shape              Param #   \n",
            "=================================================================\n",
            "flatten (Flatten)            (None, 784)               0         \n",
            "_________________________________________________________________\n",
            "dense (Dense)                (None, 128)               100480    \n",
            "_________________________________________________________________\n",
            "dropout (Dropout)            (None, 128)               0         \n",
            "_________________________________________________________________\n",
            "dense_1 (Dense)              (None, 64)                8256      \n",
            "_________________________________________________________________\n",
            "dropout_1 (Dropout)          (None, 64)                0         \n",
            "_________________________________________________________________\n",
            "dense_2 (Dense)              (None, 10)                650       \n",
            "=================================================================\n",
            "Total params: 109,386\n",
            "Trainable params: 109,386\n",
            "Non-trainable params: 0\n",
            "_________________________________________________________________\n"
          ],
          "name": "stdout"
        }
      ]
    },
    {
      "cell_type": "code",
      "metadata": {
        "id": "2DUKBJibz_xn",
        "colab_type": "code",
        "colab": {}
      },
      "source": [
        "model2.compile(\n",
        "    optimizer = 'adam',\n",
        "    loss = tf.keras.losses.SparseCategoricalCrossentropy(from_logits = True),\n",
        "    metrics = ['accuracy']\n",
        ")"
      ],
      "execution_count": 0,
      "outputs": []
    },
    {
      "cell_type": "code",
      "metadata": {
        "id": "bFFujTx10IqD",
        "colab_type": "code",
        "colab": {}
      },
      "source": [
        "batch_size = 32 \n",
        "train_dataset = train_dataset.cache().repeat().shuffle(num_train_examples).batch(batch_size)\n",
        "test_dataset = test_dataset.cache().batch(batch_size)"
      ],
      "execution_count": 0,
      "outputs": []
    },
    {
      "cell_type": "code",
      "metadata": {
        "id": "UD2sL0ZQ0LUi",
        "colab_type": "code",
        "outputId": "44e2f5d6-cbcf-4072-a934-22cfaf165d37",
        "colab": {
          "base_uri": "https://localhost:8080/",
          "height": 212
        }
      },
      "source": [
        "model2.fit(train_dataset, epochs = 5, steps_per_epoch = math.ceil(num_train_examples/batch_size))"
      ],
      "execution_count": 0,
      "outputs": [
        {
          "output_type": "stream",
          "text": [
            "Epoch 1/5\n",
            "1875/1875 [==============================] - 4s 2ms/step - loss: 0.5807 - accuracy: 0.7914\n",
            "Epoch 2/5\n",
            "1875/1875 [==============================] - 4s 2ms/step - loss: 0.4224 - accuracy: 0.8476\n",
            "Epoch 3/5\n",
            "1875/1875 [==============================] - 4s 2ms/step - loss: 0.3908 - accuracy: 0.8594\n",
            "Epoch 4/5\n",
            "1875/1875 [==============================] - 4s 2ms/step - loss: 0.3692 - accuracy: 0.8658\n",
            "Epoch 5/5\n",
            "1875/1875 [==============================] - 4s 2ms/step - loss: 0.3554 - accuracy: 0.8710\n"
          ],
          "name": "stdout"
        },
        {
          "output_type": "execute_result",
          "data": {
            "text/plain": [
              "<tensorflow.python.keras.callbacks.History at 0x7f25496fb240>"
            ]
          },
          "metadata": {
            "tags": []
          },
          "execution_count": 11
        }
      ]
    },
    {
      "cell_type": "code",
      "metadata": {
        "id": "_aSirCgX2mfs",
        "colab_type": "code",
        "outputId": "f25deb53-d0bc-4bc7-8a73-88c0a112eaf8",
        "colab": {
          "base_uri": "https://localhost:8080/",
          "height": 52
        }
      },
      "source": [
        "model2.evaluate(test_dataset, steps = math.ceil(num_test_examples/batch_size))"
      ],
      "execution_count": 0,
      "outputs": [
        {
          "output_type": "stream",
          "text": [
            "313/313 [==============================] - 1s 3ms/step - loss: 52.9044 - accuracy: 0.8415\n"
          ],
          "name": "stdout"
        },
        {
          "output_type": "execute_result",
          "data": {
            "text/plain": [
              "[52.90438461303711, 0.8414999842643738]"
            ]
          },
          "metadata": {
            "tags": []
          },
          "execution_count": 12
        }
      ]
    },
    {
      "cell_type": "markdown",
      "metadata": {
        "id": "IXgSE9zR2lVw",
        "colab_type": "text"
      },
      "source": [
        "Model 2 accuracy on the test dataset is 0.8414999842643738\n",
        "\n"
      ]
    },
    {
      "cell_type": "markdown",
      "metadata": {
        "id": "_i9Wn7ra3cat",
        "colab_type": "text"
      },
      "source": [
        "# Model 3 with 3 hidden layers and 20% dropout "
      ]
    },
    {
      "cell_type": "code",
      "metadata": {
        "id": "8_3zcxKx3Ztm",
        "colab_type": "code",
        "colab": {}
      },
      "source": [
        "model3 = tf.keras.Sequential([\n",
        "  tf.keras.layers.Flatten(input_shape = (28, 28, 1)),\n",
        "  tf.keras.layers.Dense(128, activation = tf.nn.relu),\n",
        "  tf.keras.layers.Dropout(0.2),\n",
        "  tf.keras.layers.Dense(64, activation = tf.nn.relu),\n",
        "  tf.keras.layers.Dropout(0.2),\n",
        "  tf.keras.layers.Dense(32, activation = tf.nn.relu),\n",
        "  tf.keras.layers.Dropout(0.2),\n",
        "  tf.keras.layers.Dense(10)\n",
        "])"
      ],
      "execution_count": 0,
      "outputs": []
    },
    {
      "cell_type": "code",
      "metadata": {
        "id": "GIvUQiSV33Jp",
        "colab_type": "code",
        "colab": {}
      },
      "source": [
        "model3.summary()"
      ],
      "execution_count": 0,
      "outputs": []
    },
    {
      "cell_type": "code",
      "metadata": {
        "id": "CPXlMe2K34Zy",
        "colab_type": "code",
        "colab": {}
      },
      "source": [
        "model3.compile(\n",
        "    optimizer = 'adam',\n",
        "    loss = tf.keras.losses.SparseCategoricalCrossentropy(from_logits = True),\n",
        "    metrics = ['accuracy']\n",
        ")"
      ],
      "execution_count": 0,
      "outputs": []
    },
    {
      "cell_type": "code",
      "metadata": {
        "id": "m7PX-IvD4BDH",
        "colab_type": "code",
        "colab": {}
      },
      "source": [
        "batch_size = 32 \n",
        "train_dataset = train_dataset.cache().repeat().shuffle(num_train_examples).batch(batch_size)\n",
        "test_dataset = test_dataset.cache().batch(batch_size)"
      ],
      "execution_count": 0,
      "outputs": []
    },
    {
      "cell_type": "code",
      "metadata": {
        "id": "PnjWYPFb4EII",
        "colab_type": "code",
        "colab": {}
      },
      "source": [
        "model3.fit(train_dataset, epochs = 5, steps_per_epoch = math.ceil(num_train_examples/batch_size))"
      ],
      "execution_count": 0,
      "outputs": []
    },
    {
      "cell_type": "code",
      "metadata": {
        "id": "66MPdRk64QPk",
        "colab_type": "code",
        "colab": {}
      },
      "source": [
        "model3.evaluate(test_dataset, steps = math.ceil(num_test_examples/batch_size))"
      ],
      "execution_count": 0,
      "outputs": []
    },
    {
      "cell_type": "markdown",
      "metadata": {
        "id": "JMEwDcPB46lJ",
        "colab_type": "text"
      },
      "source": [
        "Accuracy on the test dataset using model 3 is 0.8199999928474426"
      ]
    },
    {
      "cell_type": "markdown",
      "metadata": {
        "id": "t74VEKek4_c_",
        "colab_type": "text"
      },
      "source": [
        "# Model 4: 2 hidden layers with 15% dropout "
      ]
    },
    {
      "cell_type": "code",
      "metadata": {
        "id": "r-02lX_D5ESz",
        "colab_type": "code",
        "colab": {}
      },
      "source": [
        "model4 = tf.keras.Sequential([\n",
        "  tf.keras.layers.Flatten(input_shape = (28, 28, 1)),\n",
        "  tf.keras.layers.Dense(128, activation = tf.nn.relu),\n",
        "  tf.keras.layers.Dropout(0.15),\n",
        "  tf.keras.layers.Dense(64, activation = tf.nn.relu),\n",
        "  tf.keras.layers.Dropout(0.15),\n",
        "  tf.keras.layers.Dense(10)\n",
        "])"
      ],
      "execution_count": 0,
      "outputs": []
    },
    {
      "cell_type": "code",
      "metadata": {
        "id": "VGGMPnlU5MMr",
        "colab_type": "code",
        "colab": {}
      },
      "source": [
        "model4.summary()"
      ],
      "execution_count": 0,
      "outputs": []
    },
    {
      "cell_type": "code",
      "metadata": {
        "id": "4vIKuKH05PLo",
        "colab_type": "code",
        "colab": {}
      },
      "source": [
        "model4.compile(\n",
        "    optimizer = 'adam',\n",
        "    loss = tf.keras.losses.SparseCategoricalCrossentropy(from_logits = True),\n",
        "    metrics = ['accuracy'] \n",
        ")"
      ],
      "execution_count": 0,
      "outputs": []
    },
    {
      "cell_type": "code",
      "metadata": {
        "id": "F5qbKpEi5S9R",
        "colab_type": "code",
        "colab": {}
      },
      "source": [
        "batch_size = 32 \n",
        "train_dataset = train_dataset.cache().repeat().shuffle(num_train_examples).batch(batch_size)\n",
        "test_dataset = test_dataset.cache().batch(batch_size)"
      ],
      "execution_count": 0,
      "outputs": []
    },
    {
      "cell_type": "code",
      "metadata": {
        "id": "7D1bIXwD5ZRK",
        "colab_type": "code",
        "outputId": "75d948ec-5e17-4e2a-aadb-d5801e9b5870",
        "colab": {
          "base_uri": "https://localhost:8080/",
          "height": 212
        }
      },
      "source": [
        "model4.fit(train_dataset, epochs = 5, steps_per_epoch = math.ceil(num_train_examples/batch_size))"
      ],
      "execution_count": 0,
      "outputs": [
        {
          "output_type": "stream",
          "text": [
            "Epoch 1/5\n",
            "1875/1875 [==============================] - 4s 2ms/step - loss: 0.5466 - accuracy: 0.8026\n",
            "Epoch 2/5\n",
            "1875/1875 [==============================] - 4s 2ms/step - loss: 0.4081 - accuracy: 0.8523\n",
            "Epoch 3/5\n",
            "1875/1875 [==============================] - 4s 2ms/step - loss: 0.3777 - accuracy: 0.8603\n",
            "Epoch 4/5\n",
            "1875/1875 [==============================] - 4s 2ms/step - loss: 0.3544 - accuracy: 0.8713\n",
            "Epoch 5/5\n",
            "1875/1875 [==============================] - 4s 2ms/step - loss: 0.3333 - accuracy: 0.8783\n"
          ],
          "name": "stdout"
        },
        {
          "output_type": "execute_result",
          "data": {
            "text/plain": [
              "<tensorflow.python.keras.callbacks.History at 0x7f25530bd4a8>"
            ]
          },
          "metadata": {
            "tags": []
          },
          "execution_count": 53
        }
      ]
    },
    {
      "cell_type": "code",
      "metadata": {
        "id": "pn8GbCKF5bQ2",
        "colab_type": "code",
        "outputId": "bce75e04-f242-4a96-91b2-903451fd79f4",
        "colab": {
          "base_uri": "https://localhost:8080/",
          "height": 52
        }
      },
      "source": [
        "model4.evaluate(test_dataset, steps = math.ceil(num_test_examples/batch_size))"
      ],
      "execution_count": 0,
      "outputs": [
        {
          "output_type": "stream",
          "text": [
            "313/313 [==============================] - 1s 3ms/step - loss: 48.8365 - accuracy: 0.8553\n"
          ],
          "name": "stdout"
        },
        {
          "output_type": "execute_result",
          "data": {
            "text/plain": [
              "[48.83653259277344, 0.8553000092506409]"
            ]
          },
          "metadata": {
            "tags": []
          },
          "execution_count": 54
        }
      ]
    },
    {
      "cell_type": "markdown",
      "metadata": {
        "id": "SENmAIXs5vqj",
        "colab_type": "text"
      },
      "source": [
        "Accuracy on the test dataset using model 4 is 0.8553000092506409"
      ]
    },
    {
      "cell_type": "markdown",
      "metadata": {
        "id": "Y_1O2AoI50K6",
        "colab_type": "text"
      },
      "source": [
        "# Model 5: 2 hidden layers with 25% dropout"
      ]
    },
    {
      "cell_type": "code",
      "metadata": {
        "id": "C8l60-fp53Q_",
        "colab_type": "code",
        "colab": {}
      },
      "source": [
        "model5 = tf.keras.Sequential([\n",
        "  tf.keras.layers.Flatten(input_shape = (28, 28, 1)),\n",
        "  tf.keras.layers.Dense(128, activation = tf.nn.relu),\n",
        "  tf.keras.layers.Dropout(0.25),\n",
        "  tf.keras.layers.Dense(64, activation = tf.nn.relu),\n",
        "  tf.keras.layers.Dropout(0.25),\n",
        "  tf.keras.layers.Dense(10)\n",
        "])"
      ],
      "execution_count": 0,
      "outputs": []
    },
    {
      "cell_type": "code",
      "metadata": {
        "id": "6qfitRj6574F",
        "colab_type": "code",
        "outputId": "ba6a5035-81a0-4b5a-9281-59919d4fec8e",
        "colab": {
          "base_uri": "https://localhost:8080/",
          "height": 372
        }
      },
      "source": [
        "model5.summary()"
      ],
      "execution_count": 0,
      "outputs": [
        {
          "output_type": "stream",
          "text": [
            "Model: \"sequential_6\"\n",
            "_________________________________________________________________\n",
            "Layer (type)                 Output Shape              Param #   \n",
            "=================================================================\n",
            "flatten_6 (Flatten)          (None, 784)               0         \n",
            "_________________________________________________________________\n",
            "dense_16 (Dense)             (None, 128)               100480    \n",
            "_________________________________________________________________\n",
            "dropout_10 (Dropout)         (None, 128)               0         \n",
            "_________________________________________________________________\n",
            "dense_17 (Dense)             (None, 64)                8256      \n",
            "_________________________________________________________________\n",
            "dropout_11 (Dropout)         (None, 64)                0         \n",
            "_________________________________________________________________\n",
            "dense_18 (Dense)             (None, 10)                650       \n",
            "=================================================================\n",
            "Total params: 109,386\n",
            "Trainable params: 109,386\n",
            "Non-trainable params: 0\n",
            "_________________________________________________________________\n"
          ],
          "name": "stdout"
        }
      ]
    },
    {
      "cell_type": "code",
      "metadata": {
        "id": "TPhcLRvi6AAM",
        "colab_type": "code",
        "colab": {}
      },
      "source": [
        "model5.compile(\n",
        "    optimizer = 'adam',\n",
        "    loss = tf.keras.losses.SparseCategoricalCrossentropy(from_logits = True),\n",
        "    metrics = ['accuracy'] \n",
        ")"
      ],
      "execution_count": 0,
      "outputs": []
    },
    {
      "cell_type": "code",
      "metadata": {
        "id": "Vm_23_hB6CdL",
        "colab_type": "code",
        "colab": {}
      },
      "source": [
        "batch_size = 32 \n",
        "train_dataset = train_dataset.cache().repeat().shuffle(num_train_examples).batch(batch_size)\n",
        "test_dataset = test_dataset.cache().batch(batch_size)"
      ],
      "execution_count": 0,
      "outputs": []
    },
    {
      "cell_type": "code",
      "metadata": {
        "id": "OKMJsP4L6En1",
        "colab_type": "code",
        "outputId": "9e838915-c482-400c-fce7-0a9d895d3dcb",
        "colab": {
          "base_uri": "https://localhost:8080/",
          "height": 212
        }
      },
      "source": [
        "model5.fit(train_dataset, epochs = 5, steps_per_epoch = math.ceil(num_train_examples/batch_size))"
      ],
      "execution_count": 0,
      "outputs": [
        {
          "output_type": "stream",
          "text": [
            "Epoch 1/5\n",
            "1875/1875 [==============================] - 4s 2ms/step - loss: 0.6152 - accuracy: 0.7836\n",
            "Epoch 2/5\n",
            "1875/1875 [==============================] - 4s 2ms/step - loss: 0.4428 - accuracy: 0.8401\n",
            "Epoch 3/5\n",
            "1875/1875 [==============================] - 4s 2ms/step - loss: 0.4072 - accuracy: 0.8532\n",
            "Epoch 4/5\n",
            "1875/1875 [==============================] - 4s 2ms/step - loss: 0.3802 - accuracy: 0.8624\n",
            "Epoch 5/5\n",
            "1875/1875 [==============================] - 4s 2ms/step - loss: 0.3692 - accuracy: 0.8662\n"
          ],
          "name": "stdout"
        },
        {
          "output_type": "execute_result",
          "data": {
            "text/plain": [
              "<tensorflow.python.keras.callbacks.History at 0x7f25495774a8>"
            ]
          },
          "metadata": {
            "tags": []
          },
          "execution_count": 65
        }
      ]
    },
    {
      "cell_type": "code",
      "metadata": {
        "id": "T_Fwpnwr6G8i",
        "colab_type": "code",
        "outputId": "ff892336-da69-493e-e073-37ee295f630f",
        "colab": {
          "base_uri": "https://localhost:8080/",
          "height": 52
        }
      },
      "source": [
        "model5.evaluate(test_dataset, steps = math.ceil(num_test_examples/batch_size))"
      ],
      "execution_count": 0,
      "outputs": [
        {
          "output_type": "stream",
          "text": [
            "313/313 [==============================] - 1s 3ms/step - loss: 53.2220 - accuracy: 0.8497\n"
          ],
          "name": "stdout"
        },
        {
          "output_type": "execute_result",
          "data": {
            "text/plain": [
              "[53.22195816040039, 0.8496999740600586]"
            ]
          },
          "metadata": {
            "tags": []
          },
          "execution_count": 66
        }
      ]
    },
    {
      "cell_type": "markdown",
      "metadata": {
        "id": "Y8CLdlVF6YQp",
        "colab_type": "text"
      },
      "source": [
        "Accuracy on the test dataset using model 5 is 0.8496999740600586"
      ]
    }
  ]
}